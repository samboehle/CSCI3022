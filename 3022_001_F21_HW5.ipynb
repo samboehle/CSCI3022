{
 "cells": [
  {
   "cell_type": "markdown",
   "metadata": {},
   "source": [
    "<a id='top'></a>\n",
    "\n",
    "# CSCI3022 F21\n",
    "# Homework 5: Means, Variances, the CLT\n",
    "***\n",
    "\n",
    "**Name**: Samuel Boehle\n",
    "\n",
    "***\n",
    "\n",
    "This assignment is due on Canvas (as .ipynb) and Gradescope (as a .pdf) by **MIDNIGHT on Mon 25 Oct**. Your solutions to theoretical questions should be done in Markdown directly below the associated question.  Your solutions to computational questions should include any specified Python code and results as well as written commentary on your conclusions.  Remember that you are encouraged to discuss the problems with your classmates, but **you must write all code and solutions on your own**.\n",
    "\n",
    "**NOTES**: \n",
    "\n",
    "- Any relevant data sets should be available on Canvas. To make life easier on the graders if they need to run your code, do not change the relative path names here. Instead, move the files around on your computer.\n",
    "- If you're not familiar with typesetting math directly into Markdown then by all means, do your work on paper first and then typeset it later.  Here is a [reference guide](https://math.meta.stackexchange.com/questions/5020/mathjax-basic-tutorial-and-quick-reference) linked on Canvas on writing math in Markdown. **All** of your written commentary, justifications and mathematical work should be in Markdown.  I also recommend the [wikibook](https://en.wikibooks.org/wiki/LaTeX) for LaTex.\n",
    "- Because you can technically evaluate notebook cells is a non-linear order, it's a good idea to do **Kernel $\\rightarrow$ Restart & Run All** as a check before submitting your solutions.  That way if we need to run your code you will know that it will work as expected. \n",
    "- It is **bad form** to make your reader interpret numerical output from your code.  If a question asks you to compute some value from the data you should show your code output **AND** write a summary of the results in Markdown directly below your code. \n",
    "- 45 points of this assignment are in problems.  The remaining 5 are for neatness, style, and overall exposition of both code and text.\n",
    "- This probably goes without saying, but... For any question that asks you to calculate something, you **must show all work and justify your answers to receive credit**. Sparse or nonexistent work will receive sparse or nonexistent credit. \n",
    "\n",
    "---\n",
    "**Shortcuts:**  [Problem 1](#p1) | [Problem 2](#p2) | [Problem 3](#p3) |\n",
    "---"
   ]
  },
  {
   "cell_type": "code",
   "execution_count": 5,
   "metadata": {},
   "outputs": [],
   "source": [
    "import numpy as np\n",
    "import pandas as pd\n",
    "import matplotlib.pylab as plt\n",
    "import scipy.stats as stats\n",
    "from scipy import integrate\n",
    "import math\n",
    "import random\n",
    "%matplotlib inline"
   ]
  },
  {
   "cell_type": "markdown",
   "metadata": {},
   "source": [
    "***\n",
    "<a/ id='p1'></a>\n",
    "[Back to top](#top)\n",
    "\n",
    "## (15 pts) Problem 1: Simulation and Theory (Games)\n",
    "***\n",
    "\n",
    "The Riddler is a column on the website https://fivethirtyeight.com that posts logic, math, and probability puzzles each week.  Some of puzzles can be attacked by simulation and discrete probability: things that we have the tools to solve!\n",
    "\n",
    "(https://fivethirtyeight.com/features/how-low-can-you-roll/)\n",
    "\n",
    "You are given a fair, unweighted 10-sided die with sides labeled 0 to 9 and a sheet of paper to record your score. (If the very notion of a fair 10-sided die bothers you, and you need to know what sort of three-dimensional solid it is, then forget it — you have a random number generator that gives you an integer value from 0 to 9 with equal probability. Your loss — the die was a collector’s item.)\n",
    "\n",
    "To start the game, you roll the die. Your current “score” is the number shown, divided by 10. For example, if you were to roll a 7, then your score would be 0.7. Then, you keep rolling the die over and over again. Each time you roll, if the digit shown by the die is less than or equal to the last digit of your score, then that roll becomes the new last digit of your score. Otherwise you just go ahead and roll again. The game ends when you roll a zero.\n",
    "\n",
    "For example, suppose you roll the following: 6, 2, 5, 1, 8, 1, 0. After your first roll, your score would be 0.6, After the second, it’s 0.62. You ignore the third roll, since 5 is greater than the current last digit, 2. After the fourth roll, your score is 0.621. You ignore the fifth roll, since 8 is greater than the current last digit, 1. After the sixth roll, your score is 0.6211. And after the seventh roll, the game is over — 0.6211 is your final score.\n",
    "\n",
    "What will be your average final score in this game?\n",
    "\n",
    "**Part A**: Suppose our current value is $0.abcd$ for some 1-9 integers $a, b, c, d.$  What is the theoretical distribution of $e$, the next *term* in the final score's decimal representation?  Name the distribution and list all of its outcomes and their probabilities.  Note that \"there are no additional terms\" should have non-zero probability."
   ]
  },
  {
   "cell_type": "markdown",
   "metadata": {},
   "source": [
    "Binomial distribution with outcomes of the summatin of 1/9 times the previous outcome."
   ]
  },
  {
   "cell_type": "markdown",
   "metadata": {},
   "source": [
    "**Part B**: What is the expected number of *rolls* until you're done?  What is the theoretical variance in the number of *rolls* until you're done?  What distribution is this?\n",
    "\n"
   ]
  },
  {
   "cell_type": "markdown",
   "metadata": {},
   "source": [
    "10 with variance of 4.5."
   ]
  },
  {
   "cell_type": "markdown",
   "metadata": {},
   "source": [
    "**Part C**: Simulate 10000 trials of this game, recording a score for each, then compute and print the average score over all of those trials. \n",
    "\n",
    "(Note: To check your result, you can find the exact *expected* solution in the following week's column: https://fivethirtyeight.com/features/can-you-decode-the-riddler-lottery/... but we want to simulate!)\n"
   ]
  },
  {
   "cell_type": "code",
   "execution_count": 6,
   "metadata": {},
   "outputs": [
    {
     "name": "stdout",
     "output_type": "stream",
     "text": [
      "Average: 0.46202334073099743\n"
     ]
    }
   ],
   "source": [
    "def sim():\n",
    "    done = False\n",
    "    num = 0\n",
    "    m = .1\n",
    "    i= 1\n",
    "    prev = 999999\n",
    "    while done == False:\n",
    "        if prev == 0:\n",
    "            break\n",
    "\n",
    "        ran = random.randint(0,9)\n",
    "        if ran < prev:\n",
    "            num = round(num + round((ran * m), i), i+1)\n",
    "            i = i +1\n",
    "            prev = ran\n",
    "            m = round(m /10, i)\n",
    "    \n",
    "    return num\n",
    "\n",
    "place = list(range(10000))\n",
    "\n",
    "for i in range(0, 10000):\n",
    "    place[i] = sim()\n",
    "\n",
    "    \n",
    "print(\"Average:\", sum(place) / 10000)"
   ]
  },
  {
   "cell_type": "markdown",
   "metadata": {},
   "source": [
    "**Part D**: Make a histogram of all your scores from part C, and include a vertical line placed at the mean score from part C."
   ]
  },
  {
   "cell_type": "code",
   "execution_count": 7,
   "metadata": {},
   "outputs": [
    {
     "data": {
      "text/plain": [
       "Text(0, 0.5, 'Occurances')"
      ]
     },
     "execution_count": 7,
     "metadata": {},
     "output_type": "execute_result"
    },
    {
     "data": {
      "image/png": "[encoded data removed]",
      "text/plain": [
       "<Figure size 432x288 with 1 Axes>"
      ]
     },
     "metadata": {
      "needs_background": "light"
     },
     "output_type": "display_data"
    }
   ],
   "source": [
    "plt.hist(place, bins = 50)\n",
    "plt.axvline(x=sum(place) / 10000, color = \"red\")\n",
    "\n",
    "plt.xlabel(\"Score\")\n",
    "plt.ylabel(\"Occurances\")"
   ]
  },
  {
   "cell_type": "markdown",
   "metadata": {},
   "source": [
    "[Back to top](#top)\n",
    "<a/ id='p2'></a>\n",
    "\n",
    "## (15 pts) Problem 2: Normals and Making the Curve\n",
    "\n",
    "Due to your excellent work to date, you've been hired as a Course Assistant to CSCI3022!  The new instructor isn't really in the mood to write new problems, so they've turned to you to create the exam and ensure that it has a reasonable distribution of grades.\n",
    "\n",
    "For each of the prompts below, you should at the very least set up and justify your calculation by hand (in Markdown/Mathjax), before executing any calculations in Python. After that, feel free to use python to actually do the calculations and get decimal results. You should use absolutely use Python to retrieve critical values of a standard normal random variable (using a Z chart is so old school!).\n"
   ]
  },
  {
   "cell_type": "markdown",
   "metadata": {},
   "source": [
    "**Part A**:\n",
    "Suppose that you've created an exam with a mean of 75 points and a standard deviation of 15 points.  These scores are normally distributed  Thanks to including some extra credit, note that there's some possibility of scores above 100... which is fine, because those students are (fire emoji).\n",
    "\n",
    "\n",
    "The administration has told you that they'd like to track your \"B/C\" students, and wants data regarding any student whose exam grade fell between 78 and 84.  What is the probability that an individual students' (say, the $i$th) grade $X_i$ falls between 78 and 84?\n",
    "\n"
   ]
  },
  {
   "cell_type": "markdown",
   "metadata": {},
   "source": [
    "$$P(\\frac{78-75}{15} < \\frac{x-75}{15} < \\frac{84-75}{15}) = P(\\frac{3}{15} < Z < \\frac{9}{15})= \\Phi(\\frac{9}{15}) - \\Phi(\\frac{3}{15})$$"
   ]
  },
  {
   "cell_type": "code",
   "execution_count": 8,
   "metadata": {},
   "outputs": [
    {
     "name": "stdout",
     "output_type": "stream",
     "text": [
      "Probability: 0.14648717281082346\n"
     ]
    }
   ],
   "source": [
    "print(\"Probability:\", stats.norm.cdf(9/15) -stats.norm.cdf(3/15))"
   ]
  },
  {
   "cell_type": "markdown",
   "metadata": {},
   "source": [
    "**Part B:** Suppose your class has 30 students.  What is the probability that the overall average for the exam $\\bar{X}$ falls between 78 and 84?\n",
    "\n"
   ]
  },
  {
   "cell_type": "markdown",
   "metadata": {},
   "source": [
    "$$P(\\frac{78-75}{15/\\sqrt{30}} < Z < \\frac{84-75}{15/\\sqrt{30}}) = \\Phi(\\frac{9}{15/\\sqrt{30}}) - \\Phi(\\frac{3}{15/\\sqrt{30}})$$"
   ]
  },
  {
   "cell_type": "code",
   "execution_count": 10,
   "metadata": {},
   "outputs": [
    {
     "name": "stdout",
     "output_type": "stream",
     "text": [
      "Probabiltiy: 0.1361533386725925\n"
     ]
    }
   ],
   "source": [
    "print(\"Probabiltiy:\", stats.norm.cdf(9/(15/math.sqrt(30))) -  stats.norm.cdf(3/(15/math.sqrt(30))))"
   ]
  },
  {
   "cell_type": "markdown",
   "metadata": {},
   "source": [
    "**Part C**:\n",
    "Suppose you had control over enrollment, and could choose the number of students $n$ in your class.  What value would you choose for $n$ to **maximize** the probability that the overall average for the exam $\\bar{X}$ falls between 78 and 84?\n",
    "\n",
    "Hint: you can brute force it using a similar calculation to that in **B**!"
   ]
  },
  {
   "cell_type": "code",
   "execution_count": 11,
   "metadata": {},
   "outputs": [
    {
     "name": "stdout",
     "output_type": "stream",
     "text": [
      "Number of students to maxmize probability: 7  With average of: 0.24214531603699618\n"
     ]
    }
   ],
   "source": [
    "results = list(range(46))\n",
    "\n",
    "x=0\n",
    "max = 0\n",
    "\n",
    "for i in range(1,100):\n",
    "    cur = stats.norm.cdf(9/(15/math.sqrt(i))) -  stats.norm.cdf(3/(15/math.sqrt(i)))\n",
    "    if cur > max:\n",
    "        x = i\n",
    "        max = cur\n",
    "        \n",
    "print(\"Number of students to maxmize probability:\", x, \" With average of:\", max)"
   ]
  },
  {
   "cell_type": "markdown",
   "metadata": {},
   "source": [
    "**Part D:**  You've realized that no matter what you do, the standard deviation for exam scores basically never deviates from 15 points.  But you can affect the mean by writing slightly easier/tougher problems or providing better hints along the way!  For another class of 30 students, what value would you have to change the exam average $\\mu$ to be to ensure that there is a 97% chance that the *class average* score is above 78?"
   ]
  },
  {
   "cell_type": "code",
   "execution_count": 17,
   "metadata": {},
   "outputs": [
    {
     "name": "stdout",
     "output_type": "stream",
     "text": [
      "0.9702287103140732\n"
     ]
    }
   ],
   "source": [
    "print(1- stats.norm.cdf((78 - 83.16)/(15/math.sqrt(30))))"
   ]
  },
  {
   "cell_type": "markdown",
   "metadata": {},
   "source": [
    "Through brute force, looks like there has to be an exam average of around 83.16"
   ]
  },
  {
   "cell_type": "markdown",
   "metadata": {},
   "source": [
    "[Back to top](#top)\n",
    "<a/ id='p3'></a>\n",
    "\n",
    "## (15 pts) Problem 3: Simulation of Definite Integrals\n",
    "One really cool application of random variables is using them to approximate integrals/area under a curve.  This method of approximating integrals is used frequently in computational science to approximate really difficult integrals that we never want to do by hand.  In this exercise you'll figure out how we can do this in practice and test your method on a relatively simple integral. "
   ]
  },
  {
   "cell_type": "markdown",
   "metadata": {},
   "source": [
    "**Part A.** Consider the following function.\n",
    "\n",
    "$$ f(x) = \\frac{1}{4} \\ \\sin(x) $$   \n",
    "\n",
    "Compute **by hand**, the integral of $f(x)$ for $0 \\leq x \\leq 2$. Once you have your expression worked out, you may use python to estimate the integral to the nearest 6th decimal place.  "
   ]
  },
  {
   "cell_type": "markdown",
   "metadata": {},
   "source": [
    "**Solution:**\n",
    "\n",
    "$$\\int_{0}^{2}\\frac{1}{4}\\sin(x) = \\frac{1}{4} \\left[-\\cos{x}\\right]_0^2 = \\frac{1}{4}(-\\cos(2) + 1)$$"
   ]
  },
  {
   "cell_type": "code",
   "execution_count": 13,
   "metadata": {},
   "outputs": [
    {
     "data": {
      "text/plain": [
       "(0.3540367091367856, 3.930597060461789e-15)"
      ]
     },
     "execution_count": 13,
     "metadata": {},
     "output_type": "execute_result"
    }
   ],
   "source": [
    "sin = lambda x: (1/4)*math.sin(x)\n",
    "\n",
    "integrate.quad(sin, 0, 2)"
   ]
  },
  {
   "cell_type": "markdown",
   "metadata": {},
   "source": [
    "**Part B.** Suppose we sample a random variable $X$ from $U(0,2)$ and another random variable $Y$ from $U(0,1)$ and think of them as $x$- and $y$-coordinates of a point in the box $[0,2] \\times [0,1]$.  If we compute the ratio of points that fall under the curve $f(x)$ to the total points sampled, what does this value estimate? "
   ]
  },
  {
   "cell_type": "markdown",
   "metadata": {},
   "source": [
    "**Solution:**\n",
    "This estimates how much of the area the curve $f(x)$ takes up in the box."
   ]
  },
  {
   "cell_type": "markdown",
   "metadata": {},
   "source": [
    "**Part C.** How could we modify the process outlined in **Part B** so that our estimator estimates the value of the desired integral?  If you need inspiration, check out the in-class notebook on Stochastic Simulation (#4), specifically, the exercise where we estimated $\\pi$!"
   ]
  },
  {
   "cell_type": "markdown",
   "metadata": {},
   "source": [
    "**Solution:**\n",
    "\n",
    "Take that box and have a bunch of randoms points in the box. For each point test to see if the y value is less than the function and tally those points. Get the ratio of the points of under the curve, and then multply that ratio by the area of the box to get the integral."
   ]
  },
  {
   "cell_type": "markdown",
   "metadata": {},
   "source": [
    "**Part D.** Complete the function `integrate` below to compute an approximation to the definition integral $\\int_0^{\\text{ub}} f(x)dx$.  Your function should take as arguments:\n",
    "1. `num_samples` -- the number of points to sample,\n",
    "2. `ub` -- a number between $0$ and $\\pi$, and\n",
    "3. `isPlot` -- a Boolean flag for whether or not to display a plot of the results.\n",
    "\n",
    "Your function should return an approximation of the definite integral by sampling $X$ from $U(0,\\text{ub})$ and $Y$ from $U(0,1)$. For each random draw $(X,Y)$, define the random variable $Z$ that represents whether or not the sampled $Y$ value is less than $f(X)$ for the corresponding $X$ value.\n",
    "\n",
    "Your function should perform three tasks: \n",
    "\n",
    "1. return the estimate of the value of the integral,\n",
    "2. return the sample variance of the random variable $Z$ being simulated, using the np.var function, and\n",
    "3. if `isPlot` is True, plot the curve $f(x)$ as well as the location of the points $(X,Y)$, colored according to whether they fall above or below the curve. "
   ]
  },
  {
   "cell_type": "code",
   "execution_count": 14,
   "metadata": {},
   "outputs": [],
   "source": [
    "#Part D solution here\n",
    "import random\n",
    "\n",
    "def f(x):\n",
    "    return (np.sin(x))/4\n",
    "\n",
    "def integrate(num_samples, ub, isPlot):\n",
    "    \n",
    "    in_area = 0\n",
    "    \n",
    "    colors = list(range(num_samples))\n",
    "    \n",
    "    x_l= list(range(num_samples))\n",
    "    y_l= list(range(num_samples))\n",
    "    z = list(range(num_samples))\n",
    "    for i in range(0, num_samples):\n",
    "        x_l[i] = random.random() * 2\n",
    "        y_l[i] = random.random()\n",
    "        if f(x_l[i]) > y_l[i]:\n",
    "            colors[i] = \"orange\"\n",
    "            in_area = in_area + 1\n",
    "            z[i] = 1\n",
    "        else:\n",
    "            colors[i] = \"blue\"\n",
    "            z[i] = 0\n",
    "        \n",
    "    result = ub*(in_area / num_samples)\n",
    "    variance = np.var(z)\n",
    "    \n",
    "    if isPlot == True:\n",
    "        x = np.arange(0, 2, .1)\n",
    "        plt.plot(x, f(x))\n",
    "        plt.scatter(x_l, y_l, c= colors)\n",
    "    \n",
    "    return result, variance"
   ]
  },
  {
   "cell_type": "markdown",
   "metadata": {},
   "source": [
    "**Part E.** Write your own small unit tests!\n",
    "\n",
    "First, what should your `integrate` function output if you plug in `ub=0`? Set that as `int_0_to_0` below.\n",
    "\n",
    "Second, what should your `integrate` function output if you plug in `ub=pi`? Set that as `int_0_to_pi` below.\n",
    "\n",
    "Then, you can execute the cell below to run two sanity checks. Write out **in math** (like, a definite integral) what each of these two tests is checking and **why** that is a reasonable sanity check.\n",
    "\n",
    "If these two assertions run without fail, then things seem to be working okay. Note that the upper endpoint test is stochastic, so if it fails, try running it a few times. If it fails a lot, then things are probably going wrong."
   ]
  },
  {
   "cell_type": "code",
   "execution_count": 15,
   "metadata": {},
   "outputs": [
    {
     "name": "stdout",
     "output_type": "stream",
     "text": [
      "0.0\n",
      "0.561402607196496\n"
     ]
    }
   ],
   "source": [
    "# Part E solution here\n",
    "answer1 = integrate(1000, 0 , False)\n",
    "print(answer1[0])\n",
    "answer2 = integrate(10000, np.pi, False)\n",
    "print(answer2[0])"
   ]
  },
  {
   "cell_type": "markdown",
   "metadata": {},
   "source": [
    "Function should output 0 for an upper bound of 0. And .5 for an upper bound of pi.\n",
    "\n",
    "$$\\int_{0}^{\\pi}\\frac{1}{4}\\sin(x) = \\frac{1}{4} \\left[-\\cos{x}\\right]_0^\\pi = \\frac{1}{4}(-1 - 1) = \\frac{1}{2}$$"
   ]
  },
  {
   "cell_type": "markdown",
   "metadata": {},
   "source": [
    "**Part F.** Run your simulation with `isPlot=True` and `ub=2` for 1,000 samples so we can see your plot. Then, run your simulation (with `isPlot=False`) with at least 10,000 samples and estimate the value of the given integral. Be sure to leave your cells evaluated for the graders! Does your estimate agree with the exact value of the integral you computed in **Part A**? "
   ]
  },
  {
   "cell_type": "code",
   "execution_count": 16,
   "metadata": {},
   "outputs": [
    {
     "name": "stdout",
     "output_type": "stream",
     "text": [
      "Result of integral with 100000 steps: 0.35874 Variance: 0.14719640309999998\n",
      "It agrees with the exact value.\n"
     ]
    },
    {
     "data": {
      "image/png": "[encoded data removed]",
      "text/plain": [
       "<Figure size 432x288 with 1 Axes>"
      ]
     },
     "metadata": {
      "needs_background": "light"
     },
     "output_type": "display_data"
    }
   ],
   "source": [
    "# Part F solution here\n",
    "\n",
    "answer3 = integrate(1000, 2, True)\n",
    "\n",
    "answer4 = integrate(100000, 2, False)\n",
    "print(\"Result of integral with 100000 steps:\", answer4[0], \"Variance:\", answer4[1])\n",
    "print(\"It agrees with the exact value.\")"
   ]
  },
  {
   "cell_type": "code",
   "execution_count": null,
   "metadata": {},
   "outputs": [],
   "source": []
  }
 ],
 "metadata": {
  "kernelspec": {
   "display_name": "Python 3 (ipykernel)",
   "language": "python",
   "name": "python3"
  },
  "language_info": {
   "codemirror_mode": {
    "name": "ipython",
    "version": 3
   },
   "file_extension": ".py",
   "mimetype": "text/x-python",
   "name": "python",
   "nbconvert_exporter": "python",
   "pygments_lexer": "ipython3",
   "version": "3.9.6"
  }
 },
 "nbformat": 4,
 "nbformat_minor": 4
}
